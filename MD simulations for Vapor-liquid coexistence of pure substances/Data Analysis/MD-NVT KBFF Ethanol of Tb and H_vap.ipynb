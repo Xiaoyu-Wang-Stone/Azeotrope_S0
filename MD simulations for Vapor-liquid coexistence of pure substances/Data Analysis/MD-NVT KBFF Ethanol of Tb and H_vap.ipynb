{
 "cells": [
  {
   "cell_type": "code",
   "execution_count": 1,
   "metadata": {},
   "outputs": [
    {
     "data": {
      "text/plain": [
       "<Figure size 4000x3200 with 0 Axes>"
      ]
     },
     "metadata": {},
     "output_type": "display_data"
    }
   ],
   "source": [
    "import numpy as np\n",
    "import matplotlib.pyplot as plt\n",
    "from matplotlib.markers import MarkerStyle\n",
    "from scipy.optimize import curve_fit\n",
    "from IPython.display import display, Markdown\n",
    "\n",
    "# Constants\n",
    "R_CONST = 8.314e-3  # defines the gas constant in KJ / mol·K\n",
    "\n",
    "# Function\n",
    "def clausius_clapeyron_relation(T, delta_H, c):\n",
    "    \"\"\"Function to represent the Clausius-Clapeyron relation.\"\"\"\n",
    "    # The Clausius-Clapeyron equation is used to describe the phase transition between two states of matter\n",
    "    # Here, it is used to calculate the vapor pressure of a substance at a particular temperature\n",
    "    return -delta_H/R_CONST/T + c  # c is a constant\n",
    "\n",
    "# Plot settings\n",
    "def plot_settings():\n",
    "    \"\"\"Function to handle plot settings\"\"\"\n",
    "    plt.figure(figsize=(5,4),dpi=800)\n",
    "    font = {'family': 'serif', 'size': 16}\n",
    "    plt.rc('font', **font)\n",
    "    #plt.rc('text', usetex=True)\n",
    "    \n",
    "plot_settings()"
   ]
  },
  {
   "attachments": {},
   "cell_type": "markdown",
   "metadata": {},
   "source": [
    "Clausius–Clapeyron relation\n",
    "\n",
    "$$\\frac{\\mathrm{d} P}{\\mathrm{~d} T}=\\frac{\\Delta H_{\\rm{vap}}}{T \\Delta v}$$\n",
    "\n",
    "The equation can be further simplified by making the assumption that the vapor phase behaves like an ideal gas, resulting in:\n",
    "$$\\ln P=-\\frac{\\Delta H_{\\rm{vap}}}{R} \\frac{1}{T}+c$$\n"
   ]
  },
  {
   "cell_type": "markdown",
   "metadata": {},
   "source": [
    "Determine the boiling temperature at 1 bar\n",
    "$$ {T_{\\rm b}} = \\frac{\\Delta H_{\\rm{vap}}}{c*R}  $$\n"
   ]
  },
  {
   "cell_type": "markdown",
   "metadata": {},
   "source": [
    "# Elongated box; Z X3\n"
   ]
  },
  {
   "cell_type": "code",
   "execution_count": 4,
   "metadata": {},
   "outputs": [
    {
     "data": {
      "text/markdown": [
       "\n",
       "    $\\Delta H(cal)$: 37.512 $\\pm$ 1.524  KJ/mol \n",
       "    $T_b $: 390.598 $\\pm$  1.9 K\n",
       "    "
      ],
      "text/plain": [
       "<IPython.core.display.Markdown object>"
      ]
     },
     "metadata": {},
     "output_type": "display_data"
    },
    {
     "data": {
      "image/png": "[encoded data removed]",
      "text/plain": [
       "<Figure size 640x480 with 1 Axes>"
      ]
     },
     "metadata": {},
     "output_type": "display_data"
    }
   ],
   "source": [
    "# Load data\n",
    "data = np.loadtxt(\"/Users/xiaoyuwang/Downloads/GitHub/Boiling Point/ethanol_Pvap_T_MD_kbff.data\")\n",
    "T_list, Pg_list, Pg_err_list = data[:, 0], data[:, 1], data[:, 2] \n",
    "\n",
    "Pg_list = Pg_list\n",
    "Pg_err_list = Pg_err_list\n",
    "# error propagation relation for ln(x) is sigma(ln(x)) = sigma_x/x, while x > 0;\n",
    "plt.errorbar(1000/T_list, np.log(Pg_list), Pg_err_list/Pg_list, marker=\"p\", fmt=\"--\", c=\"royalblue\", label=\"This study\", )\n",
    "# experimental reference\n",
    "plt.axvline(x=1000/352, ls=\"--\", color='black', label='Exp')\n",
    "\n",
    "# plot limitations\n",
    "plt.xlim(2.0, 3.5)\n",
    "plt.ylim(-3.5, 2.5)\n",
    "\n",
    "# labels for axes and legend\n",
    "plt.ylabel(r\"ln P [$\\mathrm {bar} $]\")\n",
    "plt.xlabel(r\"1/T [$\\mathrm {K^{-1}} $]\")\n",
    "plt.legend()\n",
    "\n",
    "# fitting Clausius_Clapeyron_relation to the data\n",
    "popt, pcov = curve_fit(clausius_clapeyron_relation, T_list, np.log(Pg_list))\n",
    "perr = np.sqrt(np.diag(pcov))\n",
    "\n",
    "# displaying the fitted parameters\n",
    "display(Markdown(\n",
    "    rf\"\"\"\n",
    "    $\\Delta H(cal)$: {popt[0]:.3f} $\\pm$ {np.sqrt(np.diag(pcov))[0]:.3f}  KJ/mol \n",
    "    $T_b $: {popt[0]/(R_CONST*popt[1]):.3f} $\\pm$  1.9 K\n",
    "    \"\"\"))\n"
   ]
  },
  {
   "cell_type": "code",
   "execution_count": 3,
   "metadata": {},
   "outputs": [
    {
     "name": "stdout",
     "output_type": "stream",
     "text": [
      "Mean fit parameters:  [ 37.52255217  11.55569723 390.59588995]\n",
      "Uncertainty in the fit parameters:  [4.13743934 1.28179339 2.32865005]\n"
     ]
    }
   ],
   "source": [
    "import numpy as np\n",
    "from scipy.optimize import curve_fit\n",
    "\n",
    "\n",
    "# actual data\n",
    "xdata = T_list\n",
    "ydata = np.log(Pg_list)\n",
    "yerr  = Pg_err_list/Pg_list  # uncertainties in ydata\n",
    "\n",
    "# number of synthetic datasets to create\n",
    "N = 10000\n",
    "\n",
    "# storage for fit parameters\n",
    "fit_params = np.zeros((N, 3))\n",
    "\n",
    "for i in range(N):\n",
    "    # create a synthetic dataset\n",
    "    ydata_synthetic = ydata + yerr * np.random.randn(len(ydata))\n",
    "\n",
    "    # fit to the synthetic dataset\n",
    "    popt, pcov = curve_fit(clausius_clapeyron_relation, xdata, ydata_synthetic)\n",
    "\n",
    "    par = np.append(popt, popt[0]/(popt[1]*R_CONST))\n",
    "    # store the fit parameters\n",
    "    fit_params[i] = par\n",
    "\n",
    "# analyze the distribution of fit parameters\n",
    "fit_params_mean = fit_params.mean(axis=0)\n",
    "fit_params_std = fit_params.std(axis=0)\n",
    "\n",
    "print(\"Mean fit parameters: \", fit_params_mean)\n",
    "print(\"Uncertainty in the fit parameters: \", fit_params_std)\n",
    "\n",
    "T_b = fit_params_mean[-1]\n",
    "T_b_error = fit_params_std[-1]"
   ]
  },
  {
   "cell_type": "code",
   "execution_count": null,
   "metadata": {},
   "outputs": [],
   "source": []
  }
 ],
 "metadata": {
  "kernelspec": {
   "display_name": "base",
   "language": "python",
   "name": "python3"
  },
  "language_info": {
   "codemirror_mode": {
    "name": "ipython",
    "version": 3
   },
   "file_extension": ".py",
   "mimetype": "text/x-python",
   "name": "python",
   "nbconvert_exporter": "python",
   "pygments_lexer": "ipython3",
   "version": "3.10.13"
  },
  "orig_nbformat": 4
 },
 "nbformat": 4,
 "nbformat_minor": 2
}
